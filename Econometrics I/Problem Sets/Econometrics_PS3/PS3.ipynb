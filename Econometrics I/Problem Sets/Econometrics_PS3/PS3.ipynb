{
 "cells": [
  {
   "cell_type": "markdown",
   "metadata": {},
   "source": [
    "### Part (a): Wage Differentials Based on Gender and Education\n",
    "\n",
    "1. **Gender-based Analysis**: Test if males on average earn more than females.\n",
    "2. **Education-based Analysis**: Test if individuals with a college degree earn on average more than those without.\n",
    "\n",
    "### Analysis Results for Part (a)\n",
    "\n",
    "#### Gender-Based Wage Differentials\n",
    "- **Coefficient for `female`**: -2.63, meaning females earn on average $2.63 less per hour than males, holding other factors constant.\n",
    "- **Statistical Significance**: The t-test for the gender coefficient is highly significant (p-value < 0.001), confirming that males earn significantly more than females in this dataset.\n",
    "\n",
    "#### Education-Based Wage Differentials\n",
    "- **Coefficient for `bachelor`**: 7.58, meaning workers with a bachelor's degree earn on average $7.58 more per hour than those with only a high school diploma.\n",
    "- **Statistical Significance**: The t-test for the education coefficient is also highly significant (p-value < 0.001), confirming that higher education is associated with higher earnings."
   ]
  },
  {
   "cell_type": "code",
   "execution_count": 1,
   "metadata": {},
   "outputs": [
    {
     "data": {
      "text/plain": [
       "(         ahe  year  bachelor  female  age\n",
       " 0  38.461540  2008         1       0   33\n",
       " 1  12.500000  2008         1       0   31\n",
       " 2   9.857142  2008         0       0   30\n",
       " 3   8.241758  2008         0       0   30\n",
       " 4  17.788462  2008         0       0   31,\n",
       "                ahe    year     bachelor       female          age\n",
       " count  7711.000000  7711.0  7711.000000  7711.000000  7711.000000\n",
       " mean     18.976092  2008.0     0.481001     0.432629    29.577227\n",
       " std      10.139439     0.0     0.499671     0.495472     2.855258\n",
       " min       2.003205  2008.0     0.000000     0.000000    25.000000\n",
       " 25%      12.019231  2008.0     0.000000     0.000000    27.000000\n",
       " 50%      16.826923  2008.0     0.000000     0.000000    30.000000\n",
       " 75%      23.557692  2008.0     1.000000     1.000000    32.000000\n",
       " max      82.417580  2008.0     1.000000     1.000000    34.000000)"
      ]
     },
     "execution_count": 1,
     "metadata": {},
     "output_type": "execute_result"
    }
   ],
   "source": [
    "import pandas as pd\n",
    "\n",
    "# Load the dataset\n",
    "data_path = 'dat_CPS08.csv'\n",
    "data = pd.read_csv(data_path)\n",
    "\n",
    "# Display the first few rows of the dataset and its summary statistics\n",
    "data.head(), data.describe()"
   ]
  },
  {
   "cell_type": "code",
   "execution_count": 2,
   "metadata": {},
   "outputs": [
    {
     "data": {
      "text/plain": [
       "(-2.62991169730491,\n",
       " <class 'statsmodels.stats.contrast.ContrastResults'>\n",
       "                              Test for Constraints                             \n",
       " ==============================================================================\n",
       "                  coef    std err          t      P>|t|      [0.025      0.975]\n",
       " ------------------------------------------------------------------------------\n",
       " c0            -2.6299      0.231    -11.378      0.000      -3.083      -2.177\n",
       " ==============================================================================,\n",
       " 7.576594314952761,\n",
       " <class 'statsmodels.stats.contrast.ContrastResults'>\n",
       "                              Test for Constraints                             \n",
       " ==============================================================================\n",
       "                  coef    std err          t      P>|t|      [0.025      0.975]\n",
       " ------------------------------------------------------------------------------\n",
       " c0             7.5766      0.214     35.338      0.000       7.156       7.997\n",
       " ==============================================================================)"
      ]
     },
     "execution_count": 2,
     "metadata": {},
     "output_type": "execute_result"
    }
   ],
   "source": [
    "import statsmodels.api as sm\n",
    "\n",
    "# Prepare the data for regression and tests\n",
    "X_gender = sm.add_constant(data[['female']])  # Add a constant for the intercept\n",
    "X_education = sm.add_constant(data[['bachelor']])  # Add a constant for the intercept\n",
    "\n",
    "# Ordinary Least Squares regression for gender\n",
    "model_gender = sm.OLS(data['ahe'], X_gender).fit()\n",
    "\n",
    "# Ordinary Least Squares regression for education\n",
    "model_education = sm.OLS(data['ahe'], X_education).fit()\n",
    "\n",
    "# Extracting the coefficients for interpretation\n",
    "gender_coeff = model_gender.params['female']\n",
    "education_coeff = model_education.params['bachelor']\n",
    "\n",
    "# Conduct hypothesis tests to compare averages and compute 95% confidence intervals\n",
    "gender_ttest = model_gender.t_test(\"female = 0\")\n",
    "education_ttest = model_education.t_test(\"bachelor = 0\")\n",
    "\n",
    "gender_coeff, gender_ttest, education_coeff, education_ttest\n"
   ]
  },
  {
   "cell_type": "markdown",
   "metadata": {},
   "source": [
    "### Part (b) Regression Analysis Results\n",
    "\n",
    "The regression results indicate the following:\n",
    "\n",
    "#### Regression Coefficients:\n",
    "- **Age Coefficient**: 0.585, implying an increase of approximately $0.59 in hourly earnings for each additional year of age, holding other factors constant.\n",
    "- **Gender (`female`) Coefficient**: -3.664, indicating that females earn about $3.66 less per hour than males, controlling for age and education.\n",
    "- **Education (`bachelor`) Coefficient**: +8.083, showing that those with a bachelor’s degree earn about $8.08 more per hour compared to those with only a high school diploma.\n",
    "\n",
    "#### Changes in Earnings with Age:\n",
    "- **From Age 28 to 29**: Earnings are expected to increase by about $0.59.\n",
    "- **From Age 37 to 38**: Earnings are expected to increase by the same amount, about $0.59.\n",
    "\n",
    "The analysis indicates a consistent incremental increase in earnings per year of age across the ages specified."
   ]
  },
  {
   "cell_type": "code",
   "execution_count": 3,
   "metadata": {},
   "outputs": [
    {
     "data": {
      "text/plain": [
       "(0.5852144201687334,\n",
       " 0.5852144201687334,\n",
       " 0.5852144201687334,\n",
       " <class 'statsmodels.iolib.summary.Summary'>\n",
       " \"\"\"\n",
       "                             OLS Regression Results                            \n",
       " ==============================================================================\n",
       " Dep. Variable:                    ahe   R-squared:                       0.200\n",
       " Model:                            OLS   Adj. R-squared:                  0.199\n",
       " Method:                 Least Squares   F-statistic:                     641.5\n",
       " Date:                Fri, 25 Oct 2024   Prob (F-statistic):               0.00\n",
       " Time:                        13:11:24   Log-Likelihood:                -27944.\n",
       " No. Observations:                7711   AIC:                         5.590e+04\n",
       " Df Residuals:                    7707   BIC:                         5.592e+04\n",
       " Df Model:                           3                                         \n",
       " Covariance Type:            nonrobust                                         \n",
       " ==============================================================================\n",
       "                  coef    std err          t      P>|t|      [0.025      0.975]\n",
       " ------------------------------------------------------------------------------\n",
       " const         -0.6357      1.085     -0.586      0.558      -2.763       1.492\n",
       " age            0.5852      0.036     16.165      0.000       0.514       0.656\n",
       " female        -3.6640      0.211    -17.391      0.000      -4.077      -3.251\n",
       " bachelor       8.0830      0.209     38.709      0.000       7.674       8.492\n",
       " ==============================================================================\n",
       " Omnibus:                     1975.506   Durbin-Watson:                   1.830\n",
       " Prob(Omnibus):                  0.000   Jarque-Bera (JB):             6177.802\n",
       " Skew:                           1.306   Prob(JB):                         0.00\n",
       " Kurtosis:                       6.522   Cond. No.                         313.\n",
       " ==============================================================================\n",
       " \n",
       " Notes:\n",
       " [1] Standard Errors assume that the covariance matrix of the errors is correctly specified.\n",
       " \"\"\")"
      ]
     },
     "execution_count": 3,
     "metadata": {},
     "output_type": "execute_result"
    }
   ],
   "source": [
    "# Add age variable to the regression\n",
    "X_age = sm.add_constant(data[['age', 'female', 'bachelor']])\n",
    "\n",
    "# Ordinary Least Squares regression for earnings on age, gender, and education\n",
    "model_age = sm.OLS(data['ahe'], X_age).fit()\n",
    "\n",
    "# Retrieve the coefficient for age\n",
    "age_coeff = model_age.params['age']\n",
    "\n",
    "# Expected change in earnings from age 28 to 29 and from 37 to 38\n",
    "change_28_to_29 = age_coeff * 1  # Increment by one year\n",
    "change_37_to_38 = age_coeff * 1  # Increment by one year\n",
    "\n",
    "age_coeff, change_28_to_29, change_37_to_38, model_age.summary()\n"
   ]
  },
  {
   "cell_type": "markdown",
   "metadata": {},
   "source": [
    "### Part (c) Regression Analysis Results\n",
    "\n",
    "For the logarithm of earnings regression:\n",
    "- **Age Coefficient**: 0.0273, implying that each additional year of age results in about a 2.77% increase in earnings, holding other factors constant.\n",
    "- **Gender (`female`) Coefficient**: -0.1859, indicating that females earn about 18.59% less than males, controlling for age and education.\n",
    "- **Education (`bachelor`) Coefficient**: +0.4281, showing that those with a bachelor’s degree earn about 42.81% more than those with only a high school diploma.\n",
    "\n",
    "#### Expected Changes in Log-Earnings:\n",
    "- **From Age 28 to 29**: Earnings are expected to increase by about 2.77%.\n",
    "- **From Age 37 to 38**: Earnings are expected to increase by the same percentage, about 2.77%."
   ]
  },
  {
   "cell_type": "code",
   "execution_count": 4,
   "metadata": {},
   "outputs": [
    {
     "data": {
      "text/plain": [
       "(0.02732697575782248,\n",
       " 2.7703782054908643,\n",
       " 2.7703782054908643,\n",
       " <class 'statsmodels.iolib.summary.Summary'>\n",
       " \"\"\"\n",
       "                             OLS Regression Results                            \n",
       " ==============================================================================\n",
       " Dep. Variable:                log_ahe   R-squared:                       0.201\n",
       " Model:                            OLS   Adj. R-squared:                  0.200\n",
       " Method:                 Least Squares   F-statistic:                     644.9\n",
       " Date:                Fri, 25 Oct 2024   Prob (F-statistic):               0.00\n",
       " Time:                        13:11:30   Log-Likelihood:                -5107.4\n",
       " No. Observations:                7711   AIC:                         1.022e+04\n",
       " Df Residuals:                    7707   BIC:                         1.025e+04\n",
       " Df Model:                           3                                         \n",
       " Covariance Type:            nonrobust                                         \n",
       " ==============================================================================\n",
       "                  coef    std err          t      P>|t|      [0.025      0.975]\n",
       " ------------------------------------------------------------------------------\n",
       " const          1.8763      0.056     33.411      0.000       1.766       1.986\n",
       " age            0.0273      0.002     14.589      0.000       0.024       0.031\n",
       " female        -0.1859      0.011    -17.056      0.000      -0.207      -0.165\n",
       " bachelor       0.4281      0.011     39.626      0.000       0.407       0.449\n",
       " ==============================================================================\n",
       " Omnibus:                      362.335   Durbin-Watson:                   1.823\n",
       " Prob(Omnibus):                  0.000   Jarque-Bera (JB):              568.349\n",
       " Skew:                          -0.412   Prob(JB):                    3.84e-124\n",
       " Kurtosis:                       4.043   Cond. No.                         313.\n",
       " ==============================================================================\n",
       " \n",
       " Notes:\n",
       " [1] Standard Errors assume that the covariance matrix of the errors is correctly specified.\n",
       " \"\"\")"
      ]
     },
     "execution_count": 4,
     "metadata": {},
     "output_type": "execute_result"
    }
   ],
   "source": [
    "import numpy as np\n",
    "\n",
    "# Transform earnings to logarithmic scale\n",
    "data['log_ahe'] = np.log(data['ahe'])\n",
    "\n",
    "# Add log_ahe to the regression\n",
    "X_log_age = sm.add_constant(data[['age', 'female', 'bachelor']])\n",
    "\n",
    "# Ordinary Least Squares regression for log earnings on age, gender, and education\n",
    "model_log_age = sm.OLS(data['log_ahe'], X_log_age).fit()\n",
    "\n",
    "# Retrieve the coefficient for age in log earnings model\n",
    "log_age_coeff = model_log_age.params['age']\n",
    "\n",
    "# Expected percentage change in earnings from age 28 to 29 and from 37 to 38\n",
    "# Using the exponential of the coefficient minus 1 to convert log-difference to percentage change\n",
    "percent_change_28_to_29 = (np.exp(log_age_coeff * 1) - 1) * 100\n",
    "percent_change_37_to_38 = (np.exp(log_age_coeff * 1) - 1) * 100\n",
    "\n",
    "log_age_coeff, percent_change_28_to_29, percent_change_37_to_38, model_log_age.summary()\n"
   ]
  },
  {
   "cell_type": "markdown",
   "metadata": {},
   "source": [
    "### Part (d) Regression Analysis Results with Log of Age\n",
    "\n",
    "For the regression using the logarithm of age:\n",
    "- **Log-Age Coefficient**: 0.804, which translates into a change in log-earnings:\n",
    "  - **From Age 28 to 29**: About 2.82% increase in earnings.\n",
    "  - **From Age 37 to 38**: About 2.14% increase in earnings.\n",
    "- **Gender and Education Coefficients** remain the same as in the previous model, reflecting similar percentage impacts on earnings."
   ]
  },
  {
   "cell_type": "code",
   "execution_count": 5,
   "metadata": {},
   "outputs": [
    {
     "data": {
      "text/plain": [
       "(0.8039050869978464,\n",
       " 2.821009050574853,\n",
       " 2.1438739490664953,\n",
       " <class 'statsmodels.iolib.summary.Summary'>\n",
       " \"\"\"\n",
       "                             OLS Regression Results                            \n",
       " ==============================================================================\n",
       " Dep. Variable:                log_ahe   R-squared:                       0.201\n",
       " Model:                            OLS   Adj. R-squared:                  0.200\n",
       " Method:                 Least Squares   F-statistic:                     645.3\n",
       " Date:                Fri, 25 Oct 2024   Prob (F-statistic):               0.00\n",
       " Time:                        13:11:54   Log-Likelihood:                -5106.8\n",
       " No. Observations:                7711   AIC:                         1.022e+04\n",
       " Df Residuals:                    7707   BIC:                         1.025e+04\n",
       " Df Model:                           3                                         \n",
       " Covariance Type:            nonrobust                                         \n",
       " ==============================================================================\n",
       "                  coef    std err          t      P>|t|      [0.025      0.975]\n",
       " ------------------------------------------------------------------------------\n",
       " const         -0.0345      0.186     -0.185      0.853      -0.400       0.331\n",
       " log_age        0.8039      0.055     14.626      0.000       0.696       0.912\n",
       " female        -0.1859      0.011    -17.054      0.000      -0.207      -0.165\n",
       " bachelor       0.4283      0.011     39.641      0.000       0.407       0.449\n",
       " ==============================================================================\n",
       " Omnibus:                      363.318   Durbin-Watson:                   1.823\n",
       " Prob(Omnibus):                  0.000   Jarque-Bera (JB):              570.602\n",
       " Skew:                          -0.413   Prob(JB):                    1.25e-124\n",
       " Kurtosis:                       4.046   Cond. No.                         130.\n",
       " ==============================================================================\n",
       " \n",
       " Notes:\n",
       " [1] Standard Errors assume that the covariance matrix of the errors is correctly specified.\n",
       " \"\"\")"
      ]
     },
     "execution_count": 5,
     "metadata": {},
     "output_type": "execute_result"
    }
   ],
   "source": [
    "# Transform age to logarithmic scale\n",
    "data['log_age'] = np.log(data['age'])\n",
    "\n",
    "# Add log_age to the regression\n",
    "X_log_age_transformed = sm.add_constant(data[['log_age', 'female', 'bachelor']])\n",
    "\n",
    "# Ordinary Least Squares regression for log earnings on log age, gender, and education\n",
    "model_log_age_transformed = sm.OLS(data['log_ahe'], X_log_age_transformed).fit()\n",
    "\n",
    "# Retrieve the coefficient for log_age in log earnings model\n",
    "log_age_transformed_coeff = model_log_age_transformed.params['log_age']\n",
    "\n",
    "# Expected percentage change in earnings from age 28 to 29 and from 37 to 38\n",
    "# Using the approximation that for small x, e^x ≈ 1 + x\n",
    "approx_percent_change_28_to_29 = log_age_transformed_coeff * (np.log(29) - np.log(28)) * 100\n",
    "approx_percent_change_37_to_38 = log_age_transformed_coeff * (np.log(38) - np.log(37)) * 100\n",
    "\n",
    "log_age_transformed_coeff, approx_percent_change_28_to_29, approx_percent_change_37_to_38, model_log_age_transformed.summary()\n"
   ]
  },
  {
   "cell_type": "markdown",
   "metadata": {},
   "source": [
    "### Part (e) Regression Analysis Results with Quadratic Age Effects\n",
    "\n",
    "For the regression including quadratic age effects:\n",
    "- **Age Coefficient**: 0.0814\n",
    "- **Age Squared Coefficient**: -0.00091, indicating a slight decrease in the rate of earnings increase as age progresses.\n",
    "- **Expected Changes in Log-Earnings**:\n",
    "  - **From Age 28 to 29**: Earnings are expected to increase by about 3.06%.\n",
    "  - **From Age 37 to 38**: Earnings are expected to increase by about 1.38%."
   ]
  },
  {
   "cell_type": "code",
   "execution_count": 9,
   "metadata": {},
   "outputs": [
    {
     "data": {
      "text/plain": [
       "(0.08137247324075253,\n",
       " -0.0009148162130328302,\n",
       " 3.060165761726741,\n",
       " 1.3770018748138657,\n",
       " <class 'statsmodels.iolib.summary.Summary'>\n",
       " \"\"\"\n",
       "                             OLS Regression Results                            \n",
       " ==============================================================================\n",
       " Dep. Variable:                log_ahe   R-squared:                       0.201\n",
       " Model:                            OLS   Adj. R-squared:                  0.200\n",
       " Method:                 Least Squares   F-statistic:                     484.1\n",
       " Date:                Fri, 25 Oct 2024   Prob (F-statistic):               0.00\n",
       " Time:                        13:21:06   Log-Likelihood:                -5106.6\n",
       " No. Observations:                7711   AIC:                         1.022e+04\n",
       " Df Residuals:                    7706   BIC:                         1.026e+04\n",
       " Df Model:                           4                                         \n",
       " Covariance Type:            nonrobust                                         \n",
       " ==============================================================================\n",
       "                  coef    std err          t      P>|t|      [0.025      0.975]\n",
       " ------------------------------------------------------------------------------\n",
       " const          1.0854      0.638      1.701      0.089      -0.166       2.337\n",
       " age            0.0814      0.043      1.871      0.061      -0.004       0.167\n",
       " age2          -0.0009      0.001     -1.244      0.214      -0.002       0.001\n",
       " female        -0.1859      0.011    -17.051      0.000      -0.207      -0.165\n",
       " bachelor       0.4284      0.011     39.644      0.000       0.407       0.450\n",
       " ==============================================================================\n",
       " Omnibus:                      364.034   Durbin-Watson:                   1.823\n",
       " Prob(Omnibus):                  0.000   Jarque-Bera (JB):              572.295\n",
       " Skew:                          -0.413   Prob(JB):                    5.34e-125\n",
       " Kurtosis:                       4.048   Cond. No.                     1.08e+05\n",
       " ==============================================================================\n",
       " \n",
       " Notes:\n",
       " [1] Standard Errors assume that the covariance matrix of the errors is correctly specified.\n",
       " [2] The condition number is large, 1.08e+05. This might indicate that there are\n",
       " strong multicollinearity or other numerical problems.\n",
       " \"\"\")"
      ]
     },
     "execution_count": 9,
     "metadata": {},
     "output_type": "execute_result"
    }
   ],
   "source": [
    "# Add age squared to the dataset\n",
    "data['age2'] = data['age'] ** 2\n",
    "\n",
    "# Add age and age squared to the regression\n",
    "X_age_quadratic = sm.add_constant(data[['age', 'age2', 'female', 'bachelor']])\n",
    "\n",
    "# Ordinary Least Squares regression for log earnings on age, age squared, gender, and education\n",
    "model_age_quadratic = sm.OLS(data['log_ahe'], X_age_quadratic).fit()\n",
    "\n",
    "# Retrieve the coefficients for age and age squared\n",
    "age_quadratic_coeff = model_age_quadratic.params['age']\n",
    "age2_quadratic_coeff = model_age_quadratic.params['age2']\n",
    "\n",
    "# Expected percentage change in earnings from age 28 to 29 and from 37 to 38\n",
    "# Using the formula: e^(beta1 + 2*beta2*age)\n",
    "percent_change_quadratic_28_to_29 = (np.exp(age_quadratic_coeff + 2 * age2_quadratic_coeff * 28)-1) * 100\n",
    "percent_change_quadratic_37_to_38 = (np.exp(age_quadratic_coeff + 2 * age2_quadratic_coeff * 37)-1) * 100\n",
    "\n",
    "age_quadratic_coeff, age2_quadratic_coeff, percent_change_quadratic_28_to_29, percent_change_quadratic_37_to_38, model_age_quadratic.summary()\n"
   ]
  },
  {
   "cell_type": "markdown",
   "metadata": {},
   "source": [
    "### Part (f) Age-Earnings Profile Plot\n",
    "\n",
    "The plot above shows the age-earnings profile for males with a bachelor's degree, covering ages 20 to 65. The earnings peak at age 44, indicating the age at which these individuals earn the highest average hourly rate."
   ]
  },
  {
   "cell_type": "code",
   "execution_count": 7,
   "metadata": {},
   "outputs": [
    {
     "data": {
      "image/png": "[encoded data removed]",
      "text/plain": [
       "<Figure size 1000x600 with 1 Axes>"
      ]
     },
     "metadata": {},
     "output_type": "display_data"
    },
    {
     "data": {
      "text/plain": [
       "44"
      ]
     },
     "execution_count": 7,
     "metadata": {},
     "output_type": "execute_result"
    }
   ],
   "source": [
    "import matplotlib.pyplot as plt\n",
    "\n",
    "# Define the age range from 20 to 65\n",
    "age_range = np.arange(20, 66)\n",
    "\n",
    "# Predict log earnings for males with a bachelor's degree using the quadratic age model\n",
    "predicted_log_earnings = model_age_quadratic.params['const'] \\\n",
    "                         + model_age_quadratic.params['age'] * age_range \\\n",
    "                         + model_age_quadratic.params['age2'] * age_range**2 \\\n",
    "                         + model_age_quadratic.params['bachelor'] * 1  # bachelor = 1, female = 0\n",
    "\n",
    "# Convert log earnings to actual earnings\n",
    "predicted_earnings = np.exp(predicted_log_earnings)\n",
    "\n",
    "# Determine the age at which earnings peak\n",
    "peak_age = age_range[np.argmax(predicted_earnings)]\n",
    "\n",
    "# Plotting the age-earnings profile\n",
    "plt.figure(figsize=(10, 6))\n",
    "plt.plot(age_range, predicted_earnings, label='Predicted Earnings', color='blue')\n",
    "plt.scatter(peak_age, np.max(predicted_earnings), color='red', label=f'Peak at Age {peak_age}')\n",
    "plt.title('Age-Earnings Profile for Males with a Bachelor\\'s Degree')\n",
    "plt.xlabel('Age')\n",
    "plt.ylabel('Average Hourly Earnings')\n",
    "plt.legend()\n",
    "plt.grid(True)\n",
    "plt.show()\n",
    "\n",
    "peak_age"
   ]
  },
  {
   "cell_type": "markdown",
   "metadata": {},
   "source": [
    "### Part (g) Regression Analysis Results with Gender-Age Interaction\n",
    "\n",
    "For the regression including the interaction between age and gender:\n",
    "- **Age Coefficient**: 0.0346, suggesting an overall increase of about 3.46% in earnings per year of age for males.\n",
    "- **Female Coefficient**: 0.3098, indicating an overall higher base log-earnings for females when not considering age effects.\n",
    "- **Interaction Coefficient (Age*Female)**: -0.0168, which implies that the positive impact of age on earnings is slightly less for females than for males. Each additional year of age results in a reduced earnings increase of about 1.68% for females compared to males.\n",
    "\n",
    "This interaction term suggests a significant difference in the effect of age on earnings between genders, with age having a less positive effect on earnings growth for females."
   ]
  },
  {
   "cell_type": "code",
   "execution_count": 8,
   "metadata": {},
   "outputs": [
    {
     "data": {
      "text/plain": [
       "(0.0346364767332918,\n",
       " 0.30980213945768276,\n",
       " -0.01676664361665857,\n",
       " <class 'statsmodels.iolib.summary.Summary'>\n",
       " \"\"\"\n",
       "                             OLS Regression Results                            \n",
       " ==============================================================================\n",
       " Dep. Variable:                log_ahe   R-squared:                       0.203\n",
       " Model:                            OLS   Adj. R-squared:                  0.202\n",
       " Method:                 Least Squares   F-statistic:                     489.8\n",
       " Date:                Fri, 25 Oct 2024   Prob (F-statistic):               0.00\n",
       " Time:                        13:12:53   Log-Likelihood:                -5097.5\n",
       " No. Observations:                7711   AIC:                         1.020e+04\n",
       " Df Residuals:                    7706   BIC:                         1.024e+04\n",
       " Df Model:                           4                                         \n",
       " Covariance Type:            nonrobust                                         \n",
       " ==============================================================================\n",
       "                  coef    std err          t      P>|t|      [0.025      0.975]\n",
       " ------------------------------------------------------------------------------\n",
       " const          1.6602      0.074     22.358      0.000       1.515       1.806\n",
       " age            0.0346      0.002     13.902      0.000       0.030       0.040\n",
       " female         0.3098      0.112      2.763      0.006       0.090       0.530\n",
       " bachelor       0.4267      0.011     39.521      0.000       0.406       0.448\n",
       " age_female    -0.0168      0.004     -4.442      0.000      -0.024      -0.009\n",
       " ==============================================================================\n",
       " Omnibus:                      361.189   Durbin-Watson:                   1.824\n",
       " Prob(Omnibus):                  0.000   Jarque-Bera (JB):              568.515\n",
       " Skew:                          -0.410   Prob(JB):                    3.54e-124\n",
       " Kurtosis:                       4.047   Cond. No.                         771.\n",
       " ==============================================================================\n",
       " \n",
       " Notes:\n",
       " [1] Standard Errors assume that the covariance matrix of the errors is correctly specified.\n",
       " \"\"\")"
      ]
     },
     "execution_count": 8,
     "metadata": {},
     "output_type": "execute_result"
    }
   ],
   "source": [
    "# Add interaction term between age and female to the dataset\n",
    "data['age_female'] = data['age'] * data['female']\n",
    "\n",
    "# Add interaction term to the regression\n",
    "X_interaction = sm.add_constant(data[['age', 'female', 'bachelor', 'age_female']])\n",
    "\n",
    "# Ordinary Least Squares regression for log earnings with interaction term\n",
    "model_interaction = sm.OLS(data['log_ahe'], X_interaction).fit()\n",
    "\n",
    "# Retrieve the coefficients for age, female, and the interaction term\n",
    "age_coeff_interaction = model_interaction.params['age']\n",
    "female_coeff_interaction = model_interaction.params['female']\n",
    "interaction_coeff = model_interaction.params['age_female']\n",
    "\n",
    "# Summarize the findings\n",
    "age_coeff_interaction, female_coeff_interaction, interaction_coeff, model_interaction.summary()"
   ]
  }
 ],
 "metadata": {
  "kernelspec": {
   "display_name": "py310",
   "language": "python",
   "name": "python3"
  },
  "language_info": {
   "codemirror_mode": {
    "name": "ipython",
    "version": 3
   },
   "file_extension": ".py",
   "mimetype": "text/x-python",
   "name": "python",
   "nbconvert_exporter": "python",
   "pygments_lexer": "ipython3",
   "version": "3.10.14"
  }
 },
 "nbformat": 4,
 "nbformat_minor": 2
}
