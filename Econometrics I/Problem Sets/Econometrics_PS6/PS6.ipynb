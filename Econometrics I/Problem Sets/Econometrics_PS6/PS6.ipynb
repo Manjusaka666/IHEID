{
 "cells": [
  {
   "cell_type": "code",
   "execution_count": 2,
   "metadata": {},
   "outputs": [
    {
     "name": "stdout",
     "output_type": "stream",
     "text": [
      "Initial number of observations: 99457\n",
      "Remaining number of observations after removing missing values: 99338\n"
     ]
    },
    {
     "data": {
      "text/html": [
       "<div>\n",
       "<style scoped>\n",
       "    .dataframe tbody tr th:only-of-type {\n",
       "        vertical-align: middle;\n",
       "    }\n",
       "\n",
       "    .dataframe tbody tr th {\n",
       "        vertical-align: top;\n",
       "    }\n",
       "\n",
       "    .dataframe thead th {\n",
       "        text-align: right;\n",
       "    }\n",
       "</style>\n",
       "<table border=\"1\" class=\"dataframe\">\n",
       "  <thead>\n",
       "    <tr style=\"text-align: right;\">\n",
       "      <th></th>\n",
       "      <th>invoice_no</th>\n",
       "      <th>customer_id</th>\n",
       "      <th>category</th>\n",
       "      <th>quantity</th>\n",
       "      <th>price</th>\n",
       "      <th>invoice_date</th>\n",
       "      <th>shopping_mall</th>\n",
       "      <th>gender</th>\n",
       "      <th>age</th>\n",
       "      <th>payment_method</th>\n",
       "    </tr>\n",
       "  </thead>\n",
       "  <tbody>\n",
       "    <tr>\n",
       "      <th>0</th>\n",
       "      <td>I178410</td>\n",
       "      <td>C100004</td>\n",
       "      <td>Clothing</td>\n",
       "      <td>5</td>\n",
       "      <td>1500.40</td>\n",
       "      <td>26-11-2021</td>\n",
       "      <td>Metrocity</td>\n",
       "      <td>Male</td>\n",
       "      <td>61.0</td>\n",
       "      <td>Credit Card</td>\n",
       "    </tr>\n",
       "    <tr>\n",
       "      <th>1</th>\n",
       "      <td>I158163</td>\n",
       "      <td>C100005</td>\n",
       "      <td>Shoes</td>\n",
       "      <td>2</td>\n",
       "      <td>1200.34</td>\n",
       "      <td>03-03-2023</td>\n",
       "      <td>Kanyon</td>\n",
       "      <td>Male</td>\n",
       "      <td>34.0</td>\n",
       "      <td>Cash</td>\n",
       "    </tr>\n",
       "    <tr>\n",
       "      <th>2</th>\n",
       "      <td>I262373</td>\n",
       "      <td>C100006</td>\n",
       "      <td>Toys</td>\n",
       "      <td>3</td>\n",
       "      <td>107.52</td>\n",
       "      <td>01-12-2022</td>\n",
       "      <td>Cevahir AVM</td>\n",
       "      <td>Male</td>\n",
       "      <td>44.0</td>\n",
       "      <td>Credit Card</td>\n",
       "    </tr>\n",
       "    <tr>\n",
       "      <th>3</th>\n",
       "      <td>I334895</td>\n",
       "      <td>C100012</td>\n",
       "      <td>Food &amp; Beverage</td>\n",
       "      <td>5</td>\n",
       "      <td>26.15</td>\n",
       "      <td>15-08-2021</td>\n",
       "      <td>Kanyon</td>\n",
       "      <td>Male</td>\n",
       "      <td>25.0</td>\n",
       "      <td>Cash</td>\n",
       "    </tr>\n",
       "    <tr>\n",
       "      <th>4</th>\n",
       "      <td>I202043</td>\n",
       "      <td>C100019</td>\n",
       "      <td>Toys</td>\n",
       "      <td>1</td>\n",
       "      <td>35.84</td>\n",
       "      <td>25-07-2021</td>\n",
       "      <td>Metrocity</td>\n",
       "      <td>Female</td>\n",
       "      <td>21.0</td>\n",
       "      <td>Credit Card</td>\n",
       "    </tr>\n",
       "  </tbody>\n",
       "</table>\n",
       "</div>"
      ],
      "text/plain": [
       "  invoice_no customer_id         category  quantity    price invoice_date  \\\n",
       "0    I178410     C100004         Clothing         5  1500.40   26-11-2021   \n",
       "1    I158163     C100005            Shoes         2  1200.34   03-03-2023   \n",
       "2    I262373     C100006             Toys         3   107.52   01-12-2022   \n",
       "3    I334895     C100012  Food & Beverage         5    26.15   15-08-2021   \n",
       "4    I202043     C100019             Toys         1    35.84   25-07-2021   \n",
       "\n",
       "  shopping_mall  gender   age payment_method  \n",
       "0     Metrocity    Male  61.0    Credit Card  \n",
       "1        Kanyon    Male  34.0           Cash  \n",
       "2   Cevahir AVM    Male  44.0    Credit Card  \n",
       "3        Kanyon    Male  25.0           Cash  \n",
       "4     Metrocity  Female  21.0    Credit Card  "
      ]
     },
     "execution_count": 2,
     "metadata": {},
     "output_type": "execute_result"
    }
   ],
   "source": [
    "import pandas as pd\n",
    "\n",
    "# 加载数据集\n",
    "data = pd.read_csv('dat_SalesCustomers.csv')\n",
    "\n",
    "# 初始数据量大小\n",
    "initial_size = data.shape[0]\n",
    "\n",
    "# 删除具有特定列缺失值的行\n",
    "data_clean = data.dropna(subset=['category', 'price', 'gender', 'age', 'payment_method'])\n",
    "\n",
    "# 剩余观测量\n",
    "remaining_size = data_clean.shape[0]\n",
    "\n",
    "print(f\"Initial number of observations: {initial_size}\")\n",
    "print(f\"Remaining number of observations after removing missing values: {remaining_size}\")\n",
    "\n",
    "data_clean.head()\n"
   ]
  },
  {
   "cell_type": "markdown",
   "metadata": {},
   "source": [
    "#### (B)\n",
    "Based on the variable payment method, generate a dummy variable for cash payment and\n",
    "call it paid in cash. Also, based on gender, create a dummy for males, male. What fraction\n",
    "of transactions were carried out in cash? What fraction of the overall sales (in TRY) were\n",
    "carried out in cash?"
   ]
  },
  {
   "cell_type": "code",
   "execution_count": 3,
   "metadata": {},
   "outputs": [
    {
     "name": "stdout",
     "output_type": "stream",
     "text": [
      "Fraction of transactions carried out in cash: 0.45\n",
      "Fraction of overall sales in cash: 0.45\n"
     ]
    },
    {
     "name": "stderr",
     "output_type": "stream",
     "text": [
      "C:\\Users\\purga\\AppData\\Local\\Temp\\ipykernel_42820\\1373369933.py:2: SettingWithCopyWarning: \n",
      "A value is trying to be set on a copy of a slice from a DataFrame.\n",
      "Try using .loc[row_indexer,col_indexer] = value instead\n",
      "\n",
      "See the caveats in the documentation: https://pandas.pydata.org/pandas-docs/stable/user_guide/indexing.html#returning-a-view-versus-a-copy\n",
      "  data_clean['paid_in_cash'] = (data_clean['payment_method'] == 'Cash').astype(int)\n",
      "C:\\Users\\purga\\AppData\\Local\\Temp\\ipykernel_42820\\1373369933.py:3: SettingWithCopyWarning: \n",
      "A value is trying to be set on a copy of a slice from a DataFrame.\n",
      "Try using .loc[row_indexer,col_indexer] = value instead\n",
      "\n",
      "See the caveats in the documentation: https://pandas.pydata.org/pandas-docs/stable/user_guide/indexing.html#returning-a-view-versus-a-copy\n",
      "  data_clean['male'] = (data_clean['gender'] == 'male').astype(int)\n"
     ]
    }
   ],
   "source": [
    "# 创建哑变量\n",
    "data_clean['paid_in_cash'] = (data_clean['payment_method'] == 'Cash').astype(int)\n",
    "data_clean['male'] = (data_clean['gender'] == 'male').astype(int)\n",
    "\n",
    "# 计算现金交易的比例\n",
    "fraction_cash_transactions = data_clean['paid_in_cash'].mean()\n",
    "# 计算现金销售额的比例\n",
    "fraction_cash_sales = data_clean.loc[data_clean['paid_in_cash'] == 1, 'price'].sum() / data_clean['price'].sum()\n",
    "\n",
    "print(f\"Fraction of transactions carried out in cash: {fraction_cash_transactions:.2f}\")\n",
    "print(f\"Fraction of overall sales in cash: {fraction_cash_sales:.2f}\")"
   ]
  }
 ],
 "metadata": {
  "kernelspec": {
   "display_name": "py310",
   "language": "python",
   "name": "python3"
  },
  "language_info": {
   "codemirror_mode": {
    "name": "ipython",
    "version": 3
   },
   "file_extension": ".py",
   "mimetype": "text/x-python",
   "name": "python",
   "nbconvert_exporter": "python",
   "pygments_lexer": "ipython3",
   "version": "3.10.14"
  }
 },
 "nbformat": 4,
 "nbformat_minor": 2
}
