{
 "cells": [
  {
   "cell_type": "code",
   "execution_count": 2,
   "id": "375d6f0d",
   "metadata": {},
   "outputs": [
    {
     "data": {
      "text/html": [
       "<html><body><pre>a = 3</pre></body></html>"
      ],
      "text/plain": [
       "a = 3"
      ]
     },
     "execution_count": 2,
     "metadata": {},
     "output_type": "execute_result"
    }
   ],
   "source": [
    "a=3"
   ]
  },
  {
   "cell_type": "code",
   "execution_count": 4,
   "id": "27db28ce",
   "metadata": {},
   "outputs": [
    {
     "name": "stdout",
     "output_type": "stream",
     "text": [
      "Starting Dynare (version 6.4).\n",
      "Calling Dynare with arguments: none\n",
      "Starting preprocessing of the model file ... \n",
      "Found 9 equation(s). \n",
      "Evaluating expressions... \n",
      "Computing static model derivatives (order 1). \n",
      "Normalizing the static model... \n",
      "Finding the optimal block decomposition of the static model... \n",
      "2 block(s) found: \n",
      "  1 recursive block(s) and 1 simultaneous block(s). \n",
      "  the largest simultaneous block has 8 equation(s) \n",
      "                                 and 8 feedback variable(s). \n",
      "Computing dynamic model derivatives (order 1). \n",
      "Normalizing the dynamic model... \n",
      "Finding the optimal block decomposition of the dynamic model... \n",
      "2 block(s) found: \n",
      "  1 recursive block(s) and 1 simultaneous block(s). \n",
      "  the largest simultaneous block has 8 equation(s) \n",
      "                                 and 7 feedback variable(s). \n",
      "Preprocessing completed. \n",
      "Preprocessing time: 0h00m00s.\n",
      "dynare_solve: starting value results in nonfinite/NaN value. Randomize initial guess...\n",
      "\n",
      "STEADY-STATE RESULTS:\n",
      "\n",
      "C \t\t 1.86907\n",
      "I \t\t 0.644481\n",
      "Y \t\t 2.51355\n",
      "K \t\t 25.7792\n",
      "L \t\t 0.678593\n",
      "R \t\t 0.68972\n",
      "W \t\t 46.5813\n",
      "P \t\t 19.6496\n",
      "A \t\t 1\n"
     ]
    },
    {
     "name": "stderr",
     "output_type": "stream",
     "text": [
      "错误使用 print_info (第 33 行)\n",
      "The generalized Schur (QZ) decomposition failed. For more information, see the documentation for Lapack function dgges: info=30, n=5. You can also run model_diagnostics to get more information on what may cause this problem.\n",
      "\n",
      "出错 check (第 48 行)\n",
      "    print_info(info, 0, options_);\n",
      "    ^^^^^^^^^^^^^^^^^^^^^^^^^^^^^^\n",
      "出错 test.driver (第 341 行)\n",
      "oo_.dr.eigval = check(M_,options_,oo_);\n",
      "^^^^^^^^^^^^^^^^^^^^^^^^^^^^^^^^^^^^^^^\n",
      "出错 dynare (第 308 行)\n",
      "    evalin('base',[fname '.driver']);\n",
      "    ^^^^^^^^^^^^^^^^^^^^^^^^^^^^^^^^^"
     ]
    }
   ],
   "source": [
    "dynare test.mod"
   ]
  }
 ],
 "metadata": {
  "kernelspec": {
   "display_name": "MATLAB Kernel",
   "language": "matlab",
   "name": "jupyter_matlab_kernel"
  },
  "language_info": {
   "file_extension": ".m",
   "mimetype": "text/x-matlab",
   "name": "matlab"
  }
 },
 "nbformat": 4,
 "nbformat_minor": 5
}
